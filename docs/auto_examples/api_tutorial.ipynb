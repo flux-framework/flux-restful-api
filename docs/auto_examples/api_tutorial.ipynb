{
  "cells": [
    {
      "cell_type": "code",
      "execution_count": null,
      "metadata": {
        "collapsed": false
      },
      "outputs": [],
      "source": [
        "%matplotlib inline"
      ]
    },
    {
      "cell_type": "markdown",
      "metadata": {},
      "source": [
        "\n# Introductory example - using the API\n\nThis small tutorial walks through the basics of using an API.\nThe most basic thing to do is submit a job to the API,\nlist, get statuses, cancel. We can use our example client for this.\n"
      ]
    },
    {
      "cell_type": "code",
      "execution_count": null,
      "metadata": {
        "collapsed": false
      },
      "outputs": [],
      "source": [
        "import json\nimport os\nimport sys\n\nimport matplotlib.pyplot as plt\nfrom flux_restful_client.main import get_client\n\n# This is expected to be rendered from docs root\nhere = os.path.dirname(os.path.abspath(os.getcwd()))\n\n# This is here for the nice thumbnail :)\nimage = plt.imread(os.path.join(here, \"images\", \"logo.png\"))\nfig = plt.imshow(image)\nplt.axis(\"off\")\nplt.show()"
      ]
    },
    {
      "cell_type": "markdown",
      "metadata": {},
      "source": [
        "Here we instantiate a client. If you need authentication, this can optionally take\na user and token, or also derive from the FLUX_USER and FLUX_TOKEN in the\nenvironment.\n\n"
      ]
    },
    {
      "cell_type": "code",
      "execution_count": null,
      "metadata": {
        "collapsed": false
      },
      "outputs": [],
      "source": [
        "cli = get_client()"
      ]
    },
    {
      "cell_type": "markdown",
      "metadata": {},
      "source": [
        "Let's list the nodes in our cluster!\n\n"
      ]
    },
    {
      "cell_type": "code",
      "execution_count": null,
      "metadata": {
        "collapsed": false
      },
      "outputs": [],
      "source": [
        "print(\"Listing nodes\")\nres = cli.list_nodes()\nif res:\n    print(json.dumps(res, indent=4))"
      ]
    },
    {
      "cell_type": "markdown",
      "metadata": {},
      "source": [
        "Now let's submit a job to Flux.\n\n"
      ]
    },
    {
      "cell_type": "code",
      "execution_count": null,
      "metadata": {
        "collapsed": false
      },
      "outputs": [],
      "source": [
        "print(\"\ud83d\ude34 Submitting job sleep 60\")\nres = cli.submit(command=[\"sleep\", 60])\n\n# This is an indication something went wrong - detail has an error.\nif res and \"detail\" in res:\n    print(res[\"detail\"])\n    sys.exit()"
      ]
    },
    {
      "cell_type": "markdown",
      "metadata": {},
      "source": [
        "To require auth, the server should be startup with these variables\nin the environment (and the first two found by the client here)\nvariables exported:\nFLUX_USER=fluxuser\nFLUX_TOKEN=12345\nFLUX_REQUIRE_AUTH=true\n\n"
      ]
    },
    {
      "cell_type": "markdown",
      "metadata": {},
      "source": [
        "And finally, let's get job info.\n\n"
      ]
    },
    {
      "cell_type": "code",
      "execution_count": null,
      "metadata": {
        "collapsed": false
      },
      "outputs": [],
      "source": [
        "print(\"\ud83c\udf53 Getting job info...\")\nres = cli.jobs(res[\"id\"])\nif res:\n    print(json.dumps(res, indent=4))"
      ]
    },
    {
      "cell_type": "markdown",
      "metadata": {},
      "source": [
        "And job logs\nThis will be added to the client\n\n"
      ]
    },
    {
      "cell_type": "code",
      "execution_count": null,
      "metadata": {
        "collapsed": false
      },
      "outputs": [],
      "source": [
        "print(\"\ud83d\ude34 Submitting job to echo pancakes \ud83e\udd5e\ud83e\udd5e\ud83e\udd5e\")\nres = cli.submit(command=\"echo pancakes are really just morning cakes.\")\nres = cli.output(res[\"id\"])\nif res:\n    print(json.dumps(res, indent=4))"
      ]
    },
    {
      "cell_type": "markdown",
      "metadata": {},
      "source": [
        "Now let's submit three jobs in unison so we can list them back!\nSubmit the job to flux\n\n"
      ]
    },
    {
      "cell_type": "code",
      "execution_count": null,
      "metadata": {
        "collapsed": false
      },
      "outputs": [],
      "source": [
        "print(\"Submitting 3 jobs to sleep!\")\nfor time in [10, 20, 30]:\n    cli.submit(command=[\"sleep\", time])\nres = cli.jobs()\nif res:\n    print(json.dumps(res, indent=4))"
      ]
    },
    {
      "cell_type": "markdown",
      "metadata": {},
      "source": [
        "And this is how to search (with a start, length, or query)\n\n"
      ]
    },
    {
      "cell_type": "code",
      "execution_count": null,
      "metadata": {
        "collapsed": false
      },
      "outputs": [],
      "source": [
        "print(\"\ud83c\udf13 Querying jobs!\") \nres = cli.search(\"sleep\", start=1, length=2)\nif res:\n    print(json.dumps(res, indent=4))"
      ]
    },
    {
      "cell_type": "markdown",
      "metadata": {},
      "source": [
        "Finally, let's submit and cancel a job\n\n"
      ]
    },
    {
      "cell_type": "code",
      "execution_count": null,
      "metadata": {
        "collapsed": false
      },
      "outputs": [],
      "source": [
        "print(\"Submitting job sleep 60 intending to cancel..\")\nres = cli.submit(command=[\"sleep\", 60])\nif res:\n    print(json.dumps(res, indent=4))\n    print(\"Requesting job cancel..\")\n    res = cli.cancel(res[\"id\"])\n    print(json.dumps(res, indent=4))"
      ]
    },
    {
      "cell_type": "markdown",
      "metadata": {},
      "source": [
        "And this would be how you stop your cluster service\n\n"
      ]
    },
    {
      "cell_type": "code",
      "execution_count": null,
      "metadata": {
        "collapsed": false
      },
      "outputs": [],
      "source": [
        "print(\"Stopping the service...\")\n# res = cli.stop_service()"
      ]
    }
  ],
  "metadata": {
    "kernelspec": {
      "display_name": "Python 3",
      "language": "python",
      "name": "python3"
    },
    "language_info": {
      "codemirror_mode": {
        "name": "ipython",
        "version": 3
      },
      "file_extension": ".py",
      "mimetype": "text/x-python",
      "name": "python",
      "nbconvert_exporter": "python",
      "pygments_lexer": "ipython3",
      "version": "3.8.10"
    }
  },
  "nbformat": 4,
  "nbformat_minor": 0
}
